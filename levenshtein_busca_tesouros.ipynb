{
  "nbformat": 4,
  "nbformat_minor": 0,
  "metadata": {
    "colab": {
      "provenance": [],
      "authorship_tag": "ABX9TyOe8zZ2UjRaEtuaFEBmaaxL",
      "include_colab_link": true
    },
    "kernelspec": {
      "name": "python3",
      "display_name": "Python 3"
    },
    "language_info": {
      "name": "python"
    }
  },
  "cells": [
    {
      "cell_type": "markdown",
      "metadata": {
        "id": "view-in-github",
        "colab_type": "text"
      },
      "source": [
        "<a href=\"https://colab.research.google.com/github/christianzambra/productmanagerslife/blob/main/levenshtein_busca_tesouros.ipynb\" target=\"_parent\"><img src=\"https://colab.research.google.com/assets/colab-badge.svg\" alt=\"Open In Colab\"/></a>"
      ]
    },
    {
      "cell_type": "code",
      "execution_count": 4,
      "metadata": {
        "colab": {
          "base_uri": "https://localhost:8080/"
        },
        "id": "h2eo0hFisbFe",
        "outputId": "ea257e3f-f459-49c2-c599-1a565743541e"
      },
      "outputs": [
        {
          "output_type": "stream",
          "name": "stdout",
          "text": [
            "Requirement already satisfied: pydrive2 in /usr/local/lib/python3.10/dist-packages (1.6.3)\n",
            "Requirement already satisfied: PyPDF2 in /usr/local/lib/python3.10/dist-packages (3.0.1)\n",
            "Requirement already satisfied: google-api-python-client>=1.12.5 in /usr/local/lib/python3.10/dist-packages (from pydrive2) (2.84.0)\n",
            "Requirement already satisfied: six>=1.13.0 in /usr/local/lib/python3.10/dist-packages (from pydrive2) (1.16.0)\n",
            "Requirement already satisfied: oauth2client>=4.0.0 in /usr/local/lib/python3.10/dist-packages (from pydrive2) (4.1.3)\n",
            "Requirement already satisfied: PyYAML>=3.0 in /usr/local/lib/python3.10/dist-packages (from pydrive2) (6.0.1)\n",
            "Requirement already satisfied: pyOpenSSL>=19.1.0 in /usr/local/lib/python3.10/dist-packages (from pydrive2) (24.0.0)\n",
            "Requirement already satisfied: httplib2<1dev,>=0.15.0 in /usr/local/lib/python3.10/dist-packages (from google-api-python-client>=1.12.5->pydrive2) (0.22.0)\n",
            "Requirement already satisfied: google-auth<3.0.0dev,>=1.19.0 in /usr/local/lib/python3.10/dist-packages (from google-api-python-client>=1.12.5->pydrive2) (2.27.0)\n",
            "Requirement already satisfied: google-auth-httplib2>=0.1.0 in /usr/local/lib/python3.10/dist-packages (from google-api-python-client>=1.12.5->pydrive2) (0.1.1)\n",
            "Requirement already satisfied: google-api-core!=2.0.*,!=2.1.*,!=2.2.*,!=2.3.0,<3.0.0dev,>=1.31.5 in /usr/local/lib/python3.10/dist-packages (from google-api-python-client>=1.12.5->pydrive2) (2.11.1)\n",
            "Requirement already satisfied: uritemplate<5,>=3.0.1 in /usr/local/lib/python3.10/dist-packages (from google-api-python-client>=1.12.5->pydrive2) (4.1.1)\n",
            "Requirement already satisfied: pyasn1>=0.1.7 in /usr/local/lib/python3.10/dist-packages (from oauth2client>=4.0.0->pydrive2) (0.5.1)\n",
            "Requirement already satisfied: pyasn1-modules>=0.0.5 in /usr/local/lib/python3.10/dist-packages (from oauth2client>=4.0.0->pydrive2) (0.3.0)\n",
            "Requirement already satisfied: rsa>=3.1.4 in /usr/local/lib/python3.10/dist-packages (from oauth2client>=4.0.0->pydrive2) (4.9)\n",
            "Requirement already satisfied: cryptography<43,>=41.0.5 in /usr/local/lib/python3.10/dist-packages (from pyOpenSSL>=19.1.0->pydrive2) (42.0.5)\n",
            "Requirement already satisfied: cffi>=1.12 in /usr/local/lib/python3.10/dist-packages (from cryptography<43,>=41.0.5->pyOpenSSL>=19.1.0->pydrive2) (1.16.0)\n",
            "Requirement already satisfied: googleapis-common-protos<2.0.dev0,>=1.56.2 in /usr/local/lib/python3.10/dist-packages (from google-api-core!=2.0.*,!=2.1.*,!=2.2.*,!=2.3.0,<3.0.0dev,>=1.31.5->google-api-python-client>=1.12.5->pydrive2) (1.62.0)\n",
            "Requirement already satisfied: protobuf!=3.20.0,!=3.20.1,!=4.21.0,!=4.21.1,!=4.21.2,!=4.21.3,!=4.21.4,!=4.21.5,<5.0.0.dev0,>=3.19.5 in /usr/local/lib/python3.10/dist-packages (from google-api-core!=2.0.*,!=2.1.*,!=2.2.*,!=2.3.0,<3.0.0dev,>=1.31.5->google-api-python-client>=1.12.5->pydrive2) (3.20.3)\n",
            "Requirement already satisfied: requests<3.0.0.dev0,>=2.18.0 in /usr/local/lib/python3.10/dist-packages (from google-api-core!=2.0.*,!=2.1.*,!=2.2.*,!=2.3.0,<3.0.0dev,>=1.31.5->google-api-python-client>=1.12.5->pydrive2) (2.31.0)\n",
            "Requirement already satisfied: cachetools<6.0,>=2.0.0 in /usr/local/lib/python3.10/dist-packages (from google-auth<3.0.0dev,>=1.19.0->google-api-python-client>=1.12.5->pydrive2) (5.3.3)\n",
            "Requirement already satisfied: pyparsing!=3.0.0,!=3.0.1,!=3.0.2,!=3.0.3,<4,>=2.4.2 in /usr/local/lib/python3.10/dist-packages (from httplib2<1dev,>=0.15.0->google-api-python-client>=1.12.5->pydrive2) (3.1.1)\n",
            "Requirement already satisfied: pycparser in /usr/local/lib/python3.10/dist-packages (from cffi>=1.12->cryptography<43,>=41.0.5->pyOpenSSL>=19.1.0->pydrive2) (2.21)\n",
            "Requirement already satisfied: charset-normalizer<4,>=2 in /usr/local/lib/python3.10/dist-packages (from requests<3.0.0.dev0,>=2.18.0->google-api-core!=2.0.*,!=2.1.*,!=2.2.*,!=2.3.0,<3.0.0dev,>=1.31.5->google-api-python-client>=1.12.5->pydrive2) (3.3.2)\n",
            "Requirement already satisfied: idna<4,>=2.5 in /usr/local/lib/python3.10/dist-packages (from requests<3.0.0.dev0,>=2.18.0->google-api-core!=2.0.*,!=2.1.*,!=2.2.*,!=2.3.0,<3.0.0dev,>=1.31.5->google-api-python-client>=1.12.5->pydrive2) (3.6)\n",
            "Requirement already satisfied: urllib3<3,>=1.21.1 in /usr/local/lib/python3.10/dist-packages (from requests<3.0.0.dev0,>=2.18.0->google-api-core!=2.0.*,!=2.1.*,!=2.2.*,!=2.3.0,<3.0.0dev,>=1.31.5->google-api-python-client>=1.12.5->pydrive2) (2.0.7)\n",
            "Requirement already satisfied: certifi>=2017.4.17 in /usr/local/lib/python3.10/dist-packages (from requests<3.0.0.dev0,>=2.18.0->google-api-core!=2.0.*,!=2.1.*,!=2.2.*,!=2.3.0,<3.0.0dev,>=1.31.5->google-api-python-client>=1.12.5->pydrive2) (2024.2.2)\n"
          ]
        }
      ],
      "source": [
        "# Instalando a biblioteca necessária\n",
        "!pip install pydrive2 PyPDF2"
      ]
    },
    {
      "cell_type": "code",
      "source": [
        "!pip install unidecode"
      ],
      "metadata": {
        "colab": {
          "base_uri": "https://localhost:8080/"
        },
        "id": "lrY9OGsIvz60",
        "outputId": "d3548a2f-010a-49a1-ad02-7296f272eaf7"
      },
      "execution_count": 15,
      "outputs": [
        {
          "output_type": "stream",
          "name": "stdout",
          "text": [
            "Collecting unidecode\n",
            "  Downloading Unidecode-1.3.8-py3-none-any.whl (235 kB)\n",
            "\u001b[2K     \u001b[90m━━━━━━━━━━━━━━━━━━━━━━━━━━━━━━━━━━━━━━━━\u001b[0m \u001b[32m235.5/235.5 kB\u001b[0m \u001b[31m2.5 MB/s\u001b[0m eta \u001b[36m0:00:00\u001b[0m\n",
            "\u001b[?25hInstalling collected packages: unidecode\n",
            "Successfully installed unidecode-1.3.8\n"
          ]
        }
      ]
    },
    {
      "cell_type": "code",
      "source": [
        "# Importando as bibliotecas\n",
        "import PyPDF2\n",
        "from collections import Counter\n",
        "import re\n",
        "from unidecode import unidecode\n"
      ],
      "metadata": {
        "id": "S5MZC32gsfwq"
      },
      "execution_count": 16,
      "outputs": []
    },
    {
      "cell_type": "code",
      "source": [
        "from google.colab import drive\n",
        "drive.mount('/content/drive')"
      ],
      "metadata": {
        "id": "RC4f31w2vst7"
      },
      "execution_count": null,
      "outputs": []
    },
    {
      "cell_type": "code",
      "source": [
        "\n",
        "\n",
        "\n",
        "# Caminho completo do arquivo PDF no Google Drive\n",
        "file_path = '/content/drive/MyDrive/levenshtein/PeterPan.pdf'\n",
        "\n",
        "\n",
        "# Função para calcular a distância de Levenshtein entre duas strings\n",
        "def levenshtein_distance(str1, str2):\n",
        "    len_str1, len_str2 = len(str1), len(str2)\n",
        "    matrix = [[0] * (len_str2 + 1) for _ in range(len_str1 + 1)]\n",
        "\n",
        "    for i in range(len_str1 + 1):\n",
        "        for j in range(len_str2 + 1):\n",
        "            if i == 0:\n",
        "                matrix[i][j] = j\n",
        "            elif j == 0:\n",
        "                matrix[i][j] = i\n",
        "            elif str1[i - 1] == str2[j - 1]:\n",
        "                matrix[i][j] = matrix[i - 1][j - 1]\n",
        "            else:\n",
        "                matrix[i][j] = 1 + min(matrix[i - 1][j],      # Deleção\n",
        "                                       matrix[i][j - 1],      # Inserção\n",
        "                                       matrix[i - 1][j - 1])  # Substituição\n",
        "\n",
        "    return matrix[len_str1][len_str2]\n",
        "\n",
        "# Função para encontrar frases que contêm a palavra-chave com uma distância de Levenshtein específica\n",
        "def encontrar_frases_com_palavra_chave(texto, palavra_chave, limite_distancia):\n",
        "    frases_com_palavra_chave = []\n",
        "\n",
        "    for i, frase in enumerate(texto.split('.')):\n",
        "        palavras_frase = frase.strip().lower().split()\n",
        "        for palavra in palavras_frase:\n",
        "            distancia = levenshtein_distance(palavra, palavra_chave.lower())\n",
        "\n",
        "            if distancia <= limite_distancia:\n",
        "                frases_com_palavra_chave.append((frase, i))\n",
        "                break  # Apenas uma ocorrência por frase\n",
        "\n",
        "    return frases_com_palavra_chave\n",
        "\n",
        "# # Função para imprimir frases anteriores e posteriores à frase mais próxima\n",
        "# def imprimir_contexto(texto, indice_frase, contexto=1):\n",
        "#     inicio = max(0, indice_frase - contexto)\n",
        "#     fim = min(len(texto), indice_frase + contexto + 1)\n",
        "#     context = texto[inicio:fim]\n",
        "\n",
        "#     for i, frase in enumerate(context):\n",
        "#         print(f\"Frase {indice_frase - contexto + i + 1}: {frase.strip()}\")\n",
        "\n",
        "# Abrindo o arquivo PDF e extraindo o texto\n",
        "with open(file_path, 'rb') as file:\n",
        "    pdf_reader = PyPDF2.PdfReader(file)\n",
        "    num_paginas = len(pdf_reader.pages)\n",
        "    texto_livro = ''\n",
        "\n",
        "    for pagina_num in range(num_paginas):\n",
        "        pagina = pdf_reader.pages[pagina_num]\n",
        "        texto_livro += pagina.extract_text()\n",
        "\n",
        "# Palavra-chave e limite de distância\n",
        "palavra_chave = \"tesouros\"\n",
        "limite_distancia = 1\n",
        "\n",
        "# Encontrando frases que contêm a palavra-chave com uma distância de Levenshtein específica\n",
        "frases_com_palavra_chave = encontrar_frases_com_palavra_chave(texto_livro, palavra_chave, limite_distancia)\n",
        "\n",
        "# Exibindo resultados\n",
        "print(f\"Frases que contêm a palavra '{palavra_chave}' com distância de Levenshtein {limite_distancia}:\")\n",
        "for frase, indice in frases_com_palavra_chave:\n",
        "    print(f\"Frase {indice + 1}: {frase.strip()}\")\n",
        "#    imprimir_contexto(texto_livro.split('.'), indice)\n",
        "    print(\"\\n\")\n"
      ],
      "metadata": {
        "colab": {
          "base_uri": "https://localhost:8080/"
        },
        "id": "EeGplSFGssUB",
        "outputId": "768deeab-41db-49a3-a83c-6129a1b51d6e"
      },
      "execution_count": 45,
      "outputs": [
        {
          "output_type": "stream",
          "name": "stdout",
          "text": [
            "Frases que contêm a palavra 'tesouros' com distância de Levenshtein 1:\n",
            "Frase 1772: Não me lembro se contei que havia na rocha uma vareta que uns piratas tinham \n",
            "posto ali fazia muitos e muitos anos para marcar o lugar de um tesouro enterrado\n",
            "\n",
            "\n",
            "Frase 1773: As \n",
            "crianças tinham encontrado o reluzente tesouro e, quando estavam endiabradas, \n",
            "costumavam jogar chuvas de moedas de ouro e de prata e diamantes e pérolas para as gaivotas, que mergulhavam em busca de comida e se afastavam, furiosas com aquele golpe baixo\n",
            "\n",
            "\n"
          ]
        }
      ]
    }
  ]
}