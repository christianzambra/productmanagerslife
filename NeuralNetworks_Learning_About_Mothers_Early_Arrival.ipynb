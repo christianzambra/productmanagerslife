{
 "cells": [
  {
   "cell_type": "markdown",
   "metadata": {},
   "source": [
    "# CREATE A SAMPLE DATASET"
   ]
  },
  {
   "cell_type": "code",
   "execution_count": 132,
   "metadata": {},
   "outputs": [
    {
     "name": "stdout",
     "output_type": "stream",
     "text": [
      "  Day of the Week_TEXT Weather_TEXT  Time of Arrival\n",
      "0               Friday        Sunny         3.198904\n",
      "1              Tuesday        Sunny         9.181509\n",
      "2               Friday        Rainy         6.817752\n",
      "3              Tuesday        Sunny        10.147400\n",
      "4               Monday        Sunny         8.803722\n"
     ]
    }
   ],
   "source": [
    "import pandas as pd\n",
    "import numpy as np\n",
    "\n",
    "# Define the days of the week\n",
    "days_of_week = ['Monday', 'Tuesday', 'Wednesday', 'Thursday', 'Friday']\n",
    "\n",
    "# Generate random data for each column\n",
    "weekday = np.random.choice(days_of_week, size=40000)\n",
    "weather = np.random.choice(['Rainy', 'Sunny'], size=40000)\n",
    "time_of_arrival = np.zeros(40000)\n",
    "\n",
    "#Try with this sample, close to the observations of a 5 years old child, and see what happens :)\n",
    "#weekday = np.random.choice(days_of_week, size=2000)\n",
    "#weather = np.random.choice(['Rainy', 'Sunny'], size=2000)\n",
    "#time_of_arrival = np.zeros(2000)\n",
    "\n",
    "# Assign average time of arrival based on the patterns\n",
    "\n",
    "###See that the time of arrival decrease from Monday to Thursday, but increase on Friday\n",
    "\n",
    "for i in range(len(weekday)):\n",
    "    if weekday[i] == 'Monday':\n",
    "        time_of_arrival[i] = np.random.normal(loc=10.0, scale=1.0)\n",
    "    elif weekday[i] == 'Tuesday':\n",
    "        time_of_arrival[i] = np.random.normal(loc=9.5, scale=1.0)\n",
    "    elif weekday[i] == 'Wednesday':\n",
    "        time_of_arrival[i] = np.random.normal(loc=9.0, scale=1.0)\n",
    "    elif weekday[i] == 'Thursday':\n",
    "        time_of_arrival[i] = np.random.normal(loc=8.5, scale=1.0)\n",
    "    elif weekday[i] == 'Friday':\n",
    "        time_of_arrival[i] = np.random.normal(loc=5.0, scale=1.0)\n",
    "\n",
    "###     # Increase time of arrival by 30% if the weather is rainy\n",
    "        if weather[i] == 'Rainy':\n",
    "            time_of_arrival[i] *= 1.3\n",
    "\n",
    "# Create a DataFrame using the generated data\n",
    "data = pd.DataFrame({'Day of the Week_TEXT': weekday,\n",
    "                     'Weather_TEXT': weather,\n",
    "                     'Time of Arrival': time_of_arrival})\n",
    "\n",
    "# Display the first few rows of the dataset\n",
    "print(data.head())\n"
   ]
  },
  {
   "cell_type": "markdown",
   "metadata": {},
   "source": [
    "# CREATE A NEURAL NETWORK TO PREVIEW TIME OF ARRIVAL"
   ]
  },
  {
   "cell_type": "code",
   "execution_count": 133,
   "metadata": {},
   "outputs": [],
   "source": [
    "#import pandas as pd\n",
    "#import numpy as np\n",
    "import tensorflow as tf\n",
    "from sklearn.model_selection import train_test_split\n",
    "from sklearn.preprocessing import LabelEncoder, StandardScaler\n",
    "from tensorflow.keras.models import Sequential\n",
    "from tensorflow.keras.layers import Dense, Dropout"
   ]
  },
  {
   "cell_type": "code",
   "execution_count": 134,
   "metadata": {},
   "outputs": [
    {
     "name": "stdout",
     "output_type": "stream",
     "text": [
      "  Day of the Week_TEXT Weather_TEXT  Time of Arrival  Day of the Week  Weather\n",
      "0               Friday        Sunny         3.198904                0        3\n",
      "1              Tuesday        Sunny         9.181509                5        3\n",
      "2               Friday        Rainy         6.817752                0        2\n",
      "3              Tuesday        Sunny        10.147400                5        3\n",
      "4               Monday        Sunny         8.803722                1        3\n"
     ]
    }
   ],
   "source": [
    "encoder = LabelEncoder()\n",
    "combined_labels = np.concatenate([data['Day of the Week_TEXT'].values, data['Weather_TEXT'].values])\n",
    "encoder.fit(combined_labels)\n",
    "data['Day of the Week'] = encoder.transform(data['Day of the Week_TEXT'])\n",
    "data['Weather'] = encoder.transform(data['Weather_TEXT'])\n",
    "\n",
    "#print(data.head())"
   ]
  },
  {
   "cell_type": "code",
   "execution_count": 135,
   "metadata": {},
   "outputs": [
    {
     "name": "stdout",
     "output_type": "stream",
     "text": [
      "Epoch 1/50\n",
      "1000/1000 [==============================] - 1s 973us/step - loss: 7.3980 - val_loss: 2.1460\n",
      "Epoch 2/50\n",
      "1000/1000 [==============================] - 1s 919us/step - loss: 2.6340 - val_loss: 1.2392\n",
      "Epoch 3/50\n",
      "1000/1000 [==============================] - 1s 916us/step - loss: 2.2050 - val_loss: 1.2757\n",
      "Epoch 4/50\n",
      "1000/1000 [==============================] - 1s 914us/step - loss: 1.9990 - val_loss: 1.2512\n",
      "Epoch 5/50\n",
      "1000/1000 [==============================] - 1s 931us/step - loss: 1.8546 - val_loss: 1.1848\n",
      "Epoch 6/50\n",
      "1000/1000 [==============================] - 1s 938us/step - loss: 1.7736 - val_loss: 1.1652\n",
      "Epoch 7/50\n",
      "1000/1000 [==============================] - 1s 937us/step - loss: 1.7082 - val_loss: 1.1860\n",
      "Epoch 8/50\n",
      "1000/1000 [==============================] - 1s 931us/step - loss: 1.6513 - val_loss: 1.2353\n",
      "Epoch 9/50\n",
      "1000/1000 [==============================] - 1s 934us/step - loss: 1.6197 - val_loss: 1.1924\n",
      "Epoch 10/50\n",
      "1000/1000 [==============================] - 1s 945us/step - loss: 1.5852 - val_loss: 1.2627\n",
      "Epoch 11/50\n",
      "1000/1000 [==============================] - 1s 909us/step - loss: 1.5389 - val_loss: 1.1692\n",
      "Epoch 12/50\n",
      "1000/1000 [==============================] - 1s 906us/step - loss: 1.4945 - val_loss: 1.1832\n",
      "Epoch 13/50\n",
      "1000/1000 [==============================] - 1s 916us/step - loss: 1.4922 - val_loss: 1.1821\n",
      "Epoch 14/50\n",
      "1000/1000 [==============================] - 1s 934us/step - loss: 1.4726 - val_loss: 1.2281\n",
      "Epoch 15/50\n",
      "1000/1000 [==============================] - 1s 980us/step - loss: 1.4374 - val_loss: 1.1379\n",
      "Epoch 16/50\n",
      "1000/1000 [==============================] - 1s 939us/step - loss: 1.4098 - val_loss: 1.1546\n",
      "Epoch 17/50\n",
      "1000/1000 [==============================] - 1s 908us/step - loss: 1.3804 - val_loss: 1.1353\n",
      "Epoch 18/50\n",
      "1000/1000 [==============================] - 1s 905us/step - loss: 1.3814 - val_loss: 1.2262\n",
      "Epoch 19/50\n",
      "1000/1000 [==============================] - 1s 915us/step - loss: 1.3533 - val_loss: 1.1356\n",
      "Epoch 20/50\n",
      "1000/1000 [==============================] - 1s 902us/step - loss: 1.3473 - val_loss: 1.1501\n",
      "Epoch 21/50\n",
      "1000/1000 [==============================] - 1s 910us/step - loss: 1.3335 - val_loss: 1.1640\n",
      "Epoch 22/50\n",
      "1000/1000 [==============================] - 1s 911us/step - loss: 1.3183 - val_loss: 1.1061\n",
      "Epoch 23/50\n",
      "1000/1000 [==============================] - 1s 916us/step - loss: 1.3055 - val_loss: 1.1635\n",
      "Epoch 24/50\n",
      "1000/1000 [==============================] - 1s 904us/step - loss: 1.2977 - val_loss: 1.1371\n",
      "Epoch 25/50\n",
      "1000/1000 [==============================] - 1s 918us/step - loss: 1.2832 - val_loss: 1.1644\n",
      "Epoch 26/50\n",
      "1000/1000 [==============================] - 1s 932us/step - loss: 1.2783 - val_loss: 1.2479\n",
      "Epoch 27/50\n",
      "1000/1000 [==============================] - 1s 924us/step - loss: 1.2700 - val_loss: 1.1634\n",
      "Epoch 28/50\n",
      "1000/1000 [==============================] - 1s 903us/step - loss: 1.2646 - val_loss: 1.1553\n",
      "Epoch 29/50\n",
      "1000/1000 [==============================] - 1s 913us/step - loss: 1.2634 - val_loss: 1.1587\n",
      "Epoch 30/50\n",
      "1000/1000 [==============================] - 1s 909us/step - loss: 1.2510 - val_loss: 1.1748\n",
      "Epoch 31/50\n",
      "1000/1000 [==============================] - 1s 907us/step - loss: 1.2454 - val_loss: 1.1419\n",
      "Epoch 32/50\n",
      "1000/1000 [==============================] - 1s 961us/step - loss: 1.2368 - val_loss: 1.1676\n",
      "Epoch 33/50\n",
      "1000/1000 [==============================] - 1s 949us/step - loss: 1.2262 - val_loss: 1.1393\n",
      "Epoch 34/50\n",
      "1000/1000 [==============================] - 1s 924us/step - loss: 1.2232 - val_loss: 1.1242\n",
      "Epoch 35/50\n",
      "1000/1000 [==============================] - 1s 918us/step - loss: 1.2115 - val_loss: 1.1756\n",
      "Epoch 36/50\n",
      "1000/1000 [==============================] - 1s 913us/step - loss: 1.2108 - val_loss: 1.1296\n",
      "Epoch 37/50\n",
      "1000/1000 [==============================] - 1s 918us/step - loss: 1.2166 - val_loss: 1.1412\n",
      "Epoch 38/50\n",
      "1000/1000 [==============================] - 1s 910us/step - loss: 1.2005 - val_loss: 1.1185\n",
      "Epoch 39/50\n",
      "1000/1000 [==============================] - 1s 903us/step - loss: 1.2014 - val_loss: 1.1234\n",
      "Epoch 40/50\n",
      "1000/1000 [==============================] - 1s 919us/step - loss: 1.1992 - val_loss: 1.1155\n",
      "Epoch 41/50\n",
      "1000/1000 [==============================] - 1s 912us/step - loss: 1.1894 - val_loss: 1.1715\n",
      "Epoch 42/50\n",
      "1000/1000 [==============================] - 1s 911us/step - loss: 1.1935 - val_loss: 1.1406\n",
      "Epoch 43/50\n",
      "1000/1000 [==============================] - 1s 904us/step - loss: 1.1917 - val_loss: 1.1148\n",
      "Epoch 44/50\n",
      "1000/1000 [==============================] - 1s 912us/step - loss: 1.1949 - val_loss: 1.1461\n",
      "Epoch 45/50\n",
      "1000/1000 [==============================] - 1s 914us/step - loss: 1.1854 - val_loss: 1.1779\n",
      "Epoch 46/50\n",
      "1000/1000 [==============================] - 1s 912us/step - loss: 1.1811 - val_loss: 1.1258\n",
      "Epoch 47/50\n",
      "1000/1000 [==============================] - 1s 929us/step - loss: 1.1724 - val_loss: 1.1456\n",
      "Epoch 48/50\n",
      "1000/1000 [==============================] - 1s 947us/step - loss: 1.1788 - val_loss: 1.1760\n",
      "Epoch 49/50\n",
      "1000/1000 [==============================] - 1s 937us/step - loss: 1.1631 - val_loss: 1.1317\n",
      "Epoch 50/50\n",
      "1000/1000 [==============================] - 1s 960us/step - loss: 1.1649 - val_loss: 1.1045\n"
     ]
    },
    {
     "data": {
      "text/plain": [
       "<keras.callbacks.History at 0x254826c6be0>"
      ]
     },
     "execution_count": 135,
     "metadata": {},
     "output_type": "execute_result"
    }
   ],
   "source": [
    "\n",
    "\n",
    "# Load the dataset\n",
    "#data = pd.read_csv('your_dataset.csv')  # Replace 'your_dataset.csv' with the actual dataset file name\n",
    "\n",
    "# Preprocess the data\n",
    "encoder = LabelEncoder()\n",
    "combined_labels = np.concatenate([data['Day of the Week_TEXT'].values, data['Weather_TEXT'].values])\n",
    "encoder.fit(combined_labels)\n",
    "data['Day of the Week'] = encoder.transform(data['Day of the Week_TEXT'])\n",
    "data['Weather'] = encoder.transform(data['Weather_TEXT'])\n",
    "\n",
    "test_data = data.drop('Time of Arrival', axis=1)\n",
    "\n",
    "columns_to_drop = ['Time of Arrival', 'Day of the Week_TEXT', 'Weather_TEXT']\n",
    "X = data.drop(columns_to_drop, axis=1)\n",
    "#X = data.drop('Time of Arrival', axis=1)\n",
    "y = data['Time of Arrival']\n",
    "scaler = StandardScaler()\n",
    "X = scaler.fit_transform(X)\n",
    "\n",
    "# Create a DataFrame with merged data\n",
    "test_data = pd.concat([test_data, pd.DataFrame(X)], axis=1)\n",
    "\n",
    "\n",
    "# Split the data into training and testing sets\n",
    "X_train, X_test, y_train, y_test = train_test_split(X, y, test_size=0.2, random_state=42)\n",
    "\n",
    "# Create the neural network model\n",
    "model = Sequential()\n",
    "model.add(Dense(64, activation='relu', input_dim=X_train.shape[1]))\n",
    "model.add(Dropout(0.2))\n",
    "model.add(Dense(64, activation='relu'))\n",
    "model.add(Dropout(0.2))\n",
    "model.add(Dense(1, activation='linear'))\n",
    "\n",
    "# Compile the model\n",
    "model.compile(loss='mean_squared_error', optimizer='adam')\n",
    "\n",
    "# Train the model\n",
    "model.fit(X_train, y_train, epochs=50, batch_size=32, validation_data=(X_test, y_test))\n",
    "\n"
   ]
  },
  {
   "cell_type": "code",
   "execution_count": 136,
   "metadata": {},
   "outputs": [
    {
     "name": "stdout",
     "output_type": "stream",
     "text": [
      "250/250 - 0s - loss: 1.1045 - 142ms/epoch - 566us/step\n"
     ]
    },
    {
     "data": {
      "text/plain": [
       "1.1045067310333252"
      ]
     },
     "execution_count": 136,
     "metadata": {},
     "output_type": "execute_result"
    }
   ],
   "source": [
    "#Model Evaluate\n",
    "model.evaluate(X_test,  y_test, verbose=2)"
   ]
  },
  {
   "cell_type": "code",
   "execution_count": 137,
   "metadata": {},
   "outputs": [],
   "source": [
    "test_data = test_data.drop_duplicates()\n",
    "#print(test_data)"
   ]
  },
  {
   "cell_type": "code",
   "execution_count": 138,
   "metadata": {},
   "outputs": [],
   "source": [
    "# Create a dataset with columns 'Day of the Week_TEXT' and 'Weather_TEXT'\n",
    "label_dataset = test_data[['Day of the Week_TEXT', 'Weather_TEXT']]\n",
    "\n",
    "# Create a dataset with the data from X (converted to a numpy array)\n",
    "predict_dataset = test_data.drop(['Day of the Week_TEXT', 'Weather_TEXT','Day of the Week','Weather'], axis=1).to_numpy()\n",
    "#print(predict_dataset)"
   ]
  },
  {
   "cell_type": "code",
   "execution_count": 139,
   "metadata": {},
   "outputs": [
    {
     "name": "stdout",
     "output_type": "stream",
     "text": [
      "WARNING:tensorflow:5 out of the last 17 calls to <function Model.make_predict_function.<locals>.predict_function at 0x00000254890670D0> triggered tf.function retracing. Tracing is expensive and the excessive number of tracings could be due to (1) creating @tf.function repeatedly in a loop, (2) passing tensors with different shapes, (3) passing Python objects instead of tensors. For (1), please define your @tf.function outside of the loop. For (2), @tf.function has reduce_retracing=True option that can avoid unnecessary retracing. For (3), please refer to https://www.tensorflow.org/guide/function#controlling_retracing and https://www.tensorflow.org/api_docs/python/tf/function for  more details.\n",
      "1/1 [==============================] - 0s 39ms/step\n"
     ]
    }
   ],
   "source": [
    "# Make predictions on distinct values\n",
    "predictions = model.predict(predict_dataset)\n",
    "\n",
    "label_dataset_t = label_dataset.copy()\n",
    "\n",
    "#print(len(predictions))\n",
    "for i in range(len(predictions)):\n",
    "    label_dataset_t.loc[label_dataset_t.index[i], 'Predictions'] = predictions[i]\n",
    "\n",
    "# Display the resulting label_dataset\n",
    "#print(label_dataset_t)"
   ]
  },
  {
   "cell_type": "code",
   "execution_count": 140,
   "metadata": {},
   "outputs": [
    {
     "name": "stdout",
     "output_type": "stream",
     "text": [
      "   Day of the Week_TEXT Weather_TEXT  Predictions\n",
      "4                Monday        Sunny     9.943331\n",
      "14               Monday        Rainy     9.893540\n",
      "1               Tuesday        Sunny     9.366679\n",
      "6               Tuesday        Rainy     9.343451\n",
      "12            Wednesday        Sunny     9.168489\n",
      "16            Wednesday        Rainy     9.106167\n",
      "15             Thursday        Sunny     8.593886\n",
      "13             Thursday        Rainy     8.640964\n",
      "0                Friday        Sunny     5.413193\n",
      "2                Friday        Rainy     6.673346\n"
     ]
    }
   ],
   "source": [
    "# Create a Categorical data type for 'Day of the Week_TEXT' column with the desired order\n",
    "day_order = ['Monday', 'Tuesday', 'Wednesday', 'Thursday', 'Friday']\n",
    "label_dataset_t['Day of the Week_TEXT'] = pd.Categorical(label_dataset_t['Day of the Week_TEXT'], categories=day_order, ordered=True)\n",
    "\n",
    "# Create a Categorical data type for 'Weather_TEXT' column with the desired order\n",
    "weather_order = ['Sunny', 'Rainy']\n",
    "label_dataset_t['Weather_TEXT'] = pd.Categorical(label_dataset_t['Weather_TEXT'], categories=weather_order, ordered=True)\n",
    "\n",
    "\n",
    "# Sort the dataset by 'Day of the Week_TEXT' and 'Weather_TEXT'\n",
    "sorted_dataset = label_dataset_t.sort_values(by=['Day of the Week_TEXT', 'Weather_TEXT'])\n",
    "\n",
    "print(sorted_dataset)"
   ]
  },
  {
   "cell_type": "code",
   "execution_count": null,
   "metadata": {},
   "outputs": [],
   "source": []
  }
 ],
 "metadata": {
  "kernelspec": {
   "display_name": "Python 3",
   "language": "python",
   "name": "python3"
  },
  "language_info": {
   "codemirror_mode": {
    "name": "ipython",
    "version": 3
   },
   "file_extension": ".py",
   "mimetype": "text/x-python",
   "name": "python",
   "nbconvert_exporter": "python",
   "pygments_lexer": "ipython3",
   "version": "3.8.5"
  }
 },
 "nbformat": 4,
 "nbformat_minor": 4
}
