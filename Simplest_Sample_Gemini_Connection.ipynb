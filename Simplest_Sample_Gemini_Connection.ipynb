{
  "nbformat": 4,
  "nbformat_minor": 0,
  "metadata": {
    "colab": {
      "provenance": [],
      "authorship_tag": "ABX9TyNJ0zC3/508ACHSK/qiMOkf",
      "include_colab_link": true
    },
    "kernelspec": {
      "name": "python3",
      "display_name": "Python 3"
    },
    "language_info": {
      "name": "python"
    }
  },
  "cells": [
    {
      "cell_type": "markdown",
      "metadata": {
        "id": "view-in-github",
        "colab_type": "text"
      },
      "source": [
        "<a href=\"https://colab.research.google.com/github/christianzambra/productmanagerslife/blob/main/Simplest_Sample_Gemini_Connection.ipynb\" target=\"_parent\"><img src=\"https://colab.research.google.com/assets/colab-badge.svg\" alt=\"Open In Colab\"/></a>"
      ]
    },
    {
      "cell_type": "code",
      "source": [
        "# Library - Bibliotecas\n",
        "\n",
        "#Google GenerativeAI library\n",
        "# if not installed, uncomment the install command below\n",
        "# !pip install -q -U google-generativeai\n",
        "import google.generativeai as genai"
      ],
      "metadata": {
        "id": "hAGD0LLOHubH"
      },
      "execution_count": 4,
      "outputs": []
    },
    {
      "cell_type": "code",
      "source": [
        "# Gerando a chave\n",
        "# 1. Go to Gemini AI studio at https://ai.google.dev/aistudio\n",
        "# 2. Sign In to Google AI Studio (or create a google account to signin)\n",
        "# 3. Click on \"Get API key\"\n",
        "# 4. Click in \"create an API key\"\n",
        "# 5. Copy and save in a safe place\n",
        "# 6. Create a secure code to put the key in a variable called GOOGLE_API_KEY)"
      ],
      "metadata": {
        "id": "xa94syDzHx1G"
      },
      "execution_count": 5,
      "outputs": []
    },
    {
      "cell_type": "code",
      "source": [
        "# Start the generative AI with the Google API\n",
        "GOOGLE_API_KEY = \"PASTE_YOUR_KEY_HERE\"\n",
        "genai.configure(api_key=GOOGLE_API_KEY)"
      ],
      "metadata": {
        "id": "Sk82C4PpL5NH"
      },
      "execution_count": 6,
      "outputs": []
    },
    {
      "cell_type": "code",
      "source": [
        "#Define the model to be used\n",
        "model = genai.GenerativeModel('gemini-pro')"
      ],
      "metadata": {
        "id": "SDKpDIlTMzd-"
      },
      "execution_count": 7,
      "outputs": []
    },
    {
      "cell_type": "code",
      "source": [
        "#Define a Prompt\n",
        "PROMPT = \"This is a text. Say Hello, please.\""
      ],
      "metadata": {
        "id": "5e21QS9GNCGG"
      },
      "execution_count": 8,
      "outputs": []
    },
    {
      "cell_type": "code",
      "source": [
        "#Call the model. The timeout can be configured in seconds, below\n",
        "response = model.generate_content(PROMPT,\n",
        "                                  request_options={\"timeout\": 300})\n",
        "\n",
        "#This variable has only the mondel answer\n",
        "resposta = response.text"
      ],
      "metadata": {
        "id": "Q1eoJbXdM47l"
      },
      "execution_count": 9,
      "outputs": []
    },
    {
      "cell_type": "code",
      "source": [
        "print(resposta)"
      ],
      "metadata": {
        "colab": {
          "base_uri": "https://localhost:8080/"
        },
        "id": "Cj_Ne5etNdFh",
        "outputId": "be4a56be-70df-4cce-cf26-f58cdfa929da"
      },
      "execution_count": 11,
      "outputs": [
        {
          "output_type": "stream",
          "name": "stdout",
          "text": [
            "Hello!\n"
          ]
        }
      ]
    }
  ]
}