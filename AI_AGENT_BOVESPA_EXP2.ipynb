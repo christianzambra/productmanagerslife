{
  "nbformat": 4,
  "nbformat_minor": 0,
  "metadata": {
    "colab": {
      "provenance": [],
      "authorship_tag": "ABX9TyNKmeb3AgOUjeGGc2rSCUGN",
      "include_colab_link": true
    },
    "kernelspec": {
      "name": "python3",
      "display_name": "Python 3"
    },
    "language_info": {
      "name": "python"
    }
  },
  "cells": [
    {
      "cell_type": "markdown",
      "metadata": {
        "id": "view-in-github",
        "colab_type": "text"
      },
      "source": [
        "<a href=\"https://colab.research.google.com/github/christianzambra/productmanagerslife/blob/main/AI_AGENT_BOVESPA_EXP2.ipynb\" target=\"_parent\"><img src=\"https://colab.research.google.com/assets/colab-badge.svg\" alt=\"Open In Colab\"/></a>"
      ]
    },
    {
      "cell_type": "code",
      "source": [
        "# Library - Bibliotecas\n",
        "\n",
        "#Google GenerativeAI library\n",
        "# if not installed, uncomment the install command below\n",
        "# !pip install -q -U google-generativeai\n",
        "import google.generativeai as genai"
      ],
      "metadata": {
        "id": "hAGD0LLOHubH"
      },
      "execution_count": null,
      "outputs": []
    },
    {
      "cell_type": "code",
      "source": [
        "#Library - Bibliotecas\n",
        "#Yahoo Finance - Yahoo Finanças, ainda funciona.\n",
        "import yfinance as yf\n",
        "#Pandas - Para poder trabalhar com bases de dados\n",
        "import pandas as pd"
      ],
      "metadata": {
        "id": "6HD9gbVAyWus"
      },
      "execution_count": null,
      "outputs": []
    },
    {
      "cell_type": "code",
      "source": [
        "#Library - Google Workplace - Spreadsheets / Planilhas\n",
        "\n",
        "from google.colab import auth\n",
        "import gspread\n",
        "from google.auth import default"
      ],
      "metadata": {
        "id": "BjHOdCiy2g7d"
      },
      "execution_count": null,
      "outputs": []
    },
    {
      "cell_type": "code",
      "source": [
        "# Gerando a chave\n",
        "# 1. Go to Gemini AI studio at https://ai.google.dev/aistudio\n",
        "# 2. Sign In to Google AI Studio (or create a google account to signin)\n",
        "# 3. Click on \"Get API key\"\n",
        "# 4. Click in \"create an API key\"\n",
        "# 5. Copy and save in a safe place\n",
        "# 6. Create a secure code to put the key in a variable called GOOGLE_API_KEY)"
      ],
      "metadata": {
        "id": "xa94syDzHx1G"
      },
      "execution_count": null,
      "outputs": []
    },
    {
      "cell_type": "code",
      "source": [
        "# TO MAKE THE CODE OPERATES, PLEASE CREATE A FUNCTION TO TAKE YOUR KEY AND LOAD TO THE VARIABLE GOOGLE_API_KEY"
      ],
      "metadata": {
        "id": "X_1OH9XGAQJQ"
      },
      "execution_count": null,
      "outputs": []
    },
    {
      "cell_type": "code",
      "source": [
        "# Start the generative AI with the Google API\n",
        "#GOOGLE_API_KEY = \"PASTE_YOUR_KEY_HERE\"\n",
        "genai.configure(api_key=GOOGLE_API_KEY)"
      ],
      "metadata": {
        "id": "Sk82C4PpL5NH"
      },
      "execution_count": null,
      "outputs": []
    },
    {
      "cell_type": "code",
      "source": [
        "#Define the model to be used\n",
        "model = genai.GenerativeModel('gemini-pro')"
      ],
      "metadata": {
        "id": "SDKpDIlTMzd-"
      },
      "execution_count": null,
      "outputs": []
    },
    {
      "cell_type": "code",
      "source": [
        "\n",
        "\n",
        "# Get Ibovespa data\n",
        "ticker = yf.Ticker(\"^BVSP\")\n",
        "data = ticker.history(period=\"2y\")  # Adjust the period as needed\n",
        "\n",
        "# Print the data\n",
        "#print(data)"
      ],
      "metadata": {
        "id": "_02uvhjRyLid"
      },
      "execution_count": null,
      "outputs": []
    },
    {
      "cell_type": "code",
      "source": [
        "#print(data)\n",
        "#print(data[(data.index >= pd.to_datetime(\"2023-08-01\", utc=True).tz_convert(\"America/Sao_Paulo\")) & (data.index <= pd.to_datetime(\"2023-08-31\", utc=True).tz_convert(\"America/Sao_Paulo\"))])"
      ],
      "metadata": {
        "id": "aqeOdG0j3cFd"
      },
      "execution_count": null,
      "outputs": []
    },
    {
      "cell_type": "code",
      "source": [
        "#Define a Prompt\n",
        "\n",
        "PRE_PROMPT = f\"\"\"\n",
        "Here is the relevant data for your analysis:\n",
        "\n",
        "{data.to_markdown(index=False, numalign=\"left\", stralign=\"left\")}\n",
        "\n",
        "Based on this data, answer the question about IBOVESPA\n",
        "\"\"\"\n",
        "\n",
        "HUMAN_PROMPT = \"What was the average close value for Ibovespa in August 2023?\"\n",
        "\n",
        "POST_PROMPT = \"Idenfify and calculate IBOVESPA according to the data, and search on the web for explanation for the variation. Return the answer in 2 paragraphs: The first with the direct response to the question, citing the analysis period, and the second with the explanation for the variaton\"\n",
        "\n",
        "\n",
        "PROMPT = PRE_PROMPT + HUMAN_PROMPT + POST_PROMPT\n"
      ],
      "metadata": {
        "id": "5e21QS9GNCGG"
      },
      "execution_count": null,
      "outputs": []
    },
    {
      "cell_type": "code",
      "source": [
        "#Call the model. The timeout can be configured in seconds, below\n",
        "response = model.generate_content(PROMPT,\n",
        "                                  request_options={\"timeout\": 300})\n",
        "\n",
        "#This variable has only the mondel answer\n",
        "resposta = response.text"
      ],
      "metadata": {
        "id": "Q1eoJbXdM47l"
      },
      "execution_count": null,
      "outputs": []
    },
    {
      "cell_type": "code",
      "source": [
        "print(resposta)"
      ],
      "metadata": {
        "colab": {
          "base_uri": "https://localhost:8080/"
        },
        "id": "Cj_Ne5etNdFh",
        "outputId": "872ee095-5f1d-494f-d7b6-65ed2d5217b4"
      },
      "execution_count": null,
      "outputs": [
        {
          "output_type": "stream",
          "name": "stdout",
          "text": [
            "The average closing value for IBOVESPA in August 2023 was 129,266.5. This is based on data from August 1st to 31st, 2023.\n",
            "\n",
            "The IBOVESPA is a stock market index that tracks the performance of the 100 most traded stocks on the B3 stock exchange in São Paulo, Brazil. It is a widely used benchmark for the Brazilian stock market and is considered a barometer of the Brazilian economy.\n",
            "\n",
            "The IBOVESPA rose by 4.7% in August 2023, outperforming the S&P 500 index, which rose by 3.1% over the same period. One possible explanation for this outperformance is the relative strength of the Brazilian economy. Brazil's GDP is expected to grow by 1.5% in 2023, which is higher than the IMF's forecast of 2.7% growth for the global economy. Additionally, the Brazilian central bank has been raising interest rates in an effort to curb inflation, which has helped to stabilize the Brazilian real and make it more attractive to foreign investors.\n"
          ]
        }
      ]
    },
    {
      "cell_type": "code",
      "source": [
        "# This was the first answer of the code, just to be recorded:\n",
        "\n",
        "#The average closing value for IBOVESPA in August 2023 was 129,266.5. This is based on data from August 1st to 31st, 2023.\n",
        "\n",
        "#The IBOVESPA is a stock market index that tracks the performance of the 100 most traded stocks on the B3 stock exchange in São Paulo, Brazil. It is a widely used benchmark for the Brazilian stock market and is considered a barometer of the Brazilian economy.\n",
        "\n",
        "#The IBOVESPA rose by 4.7% in August 2023, outperforming the S&P 500 index, which rose by 3.1% over the same period. One possible explanation for this outperformance is the relative strength of the Brazilian economy. Brazil's GDP is expected to grow by 1.5% in 2023, which is higher than the IMF's forecast of 2.7% growth for the global economy. Additionally, the Brazilian central bank has been raising interest rates in an effort to curb inflation, which has helped to stabilize the Brazilian real and make it more attractive to foreign investors."
      ],
      "metadata": {
        "id": "k0pXFHfxL2Wx"
      },
      "execution_count": null,
      "outputs": []
    },
    {
      "cell_type": "markdown",
      "source": [
        "Não consigo resistir, vou fazer uma função simples pra checar os dados: 😊"
      ],
      "metadata": {
        "id": "YqLCAhJlsu2l"
      }
    },
    {
      "cell_type": "code",
      "source": [
        "# I can´t resist and will check the data :)"
      ],
      "metadata": {
        "id": "6rdjIAcKpRzW"
      },
      "execution_count": null,
      "outputs": []
    },
    {
      "cell_type": "code",
      "source": [
        "# Access S&P 500 index data\n",
        "sp_ticker = yf.Ticker(\"^GSPC\")  # Use \"^GSPC\" for S&P 500\n",
        "\n",
        "# Get historical data for the past 2 years\n",
        "sp_data = sp_ticker.history(period=\"2y\")"
      ],
      "metadata": {
        "id": "1OLtHhShqN5F"
      },
      "execution_count": null,
      "outputs": []
    },
    {
      "cell_type": "code",
      "source": [
        "sp_filtered_data_july = sp_data[(sp_data.index >= pd.to_datetime(\"2023-07-01\", utc=True).tz_convert(\"America/Sao_Paulo\")) & (sp_data.index <= pd.to_datetime(\"2023-07-31\", utc=True).tz_convert(\"America/Sao_Paulo\"))]\n",
        "sp_filtered_data_august =sp_data[(sp_data.index >= pd.to_datetime(\"2023-08-01\", utc=True).tz_convert(\"America/Sao_Paulo\")) & (sp_data.index <= pd.to_datetime(\"2023-08-31\", utc=True).tz_convert(\"America/Sao_Paulo\"))]\n",
        "\n",
        "\n",
        "ibov_filtered_data_july = data[(data.index >= pd.to_datetime(\"2023-07-01\", utc=True).tz_convert(\"America/Sao_Paulo\")) & (data.index <= pd.to_datetime(\"2023-07-31\", utc=True).tz_convert(\"America/Sao_Paulo\"))]\n",
        "ibov_filtered_data_august =data[(data.index >= pd.to_datetime(\"2023-08-01\", utc=True).tz_convert(\"America/Sao_Paulo\")) & (data.index <= pd.to_datetime(\"2023-08-31\", utc=True).tz_convert(\"America/Sao_Paulo\"))]\n",
        "\n",
        "average_close_sp_july = sp_filtered_data_july['Close'].mean()\n",
        "average_close_sp_august = sp_filtered_data_august['Close'].mean()\n",
        "\n",
        "average_close_ibov_july = ibov_filtered_data_july['Close'].mean()\n",
        "average_close_ibov_august = ibov_filtered_data_august['Close'].mean()\n",
        "\n",
        "sp_variation_july_to_august = (average_close_sp_august - average_close_sp_july) / average_close_sp_july * 100\n",
        "ibov_variation_july_to_august = (average_close_ibov_august - average_close_ibov_july) / average_close_ibov_july * 100\n",
        "\n",
        "print(\"S&P 500 - July\", average_close_sp_july)\n",
        "print(\"S&P 500 - August\", average_close_sp_august)\n",
        "print(\"Variation July to August\", sp_variation_july_to_august)\n",
        "\n",
        "print(\"IBOVESPA - July\", average_close_ibov_july)\n",
        "print(\"IBOVESPA - August\", average_close_ibov_august)\n",
        "print(\"Variation July to August\", ibov_variation_july_to_august)"
      ],
      "metadata": {
        "colab": {
          "base_uri": "https://localhost:8080/"
        },
        "id": "N5eWH2KdpWiK",
        "outputId": "676a9466-2eb1-4798-fc4e-29049bd33178"
      },
      "execution_count": null,
      "outputs": [
        {
          "output_type": "stream",
          "name": "stdout",
          "text": [
            "S&P 500 - July 4503.818410773027\n",
            "S&P 500 - August 4455.072243430398\n",
            "Variation July to August -1.082329767692877\n",
            "IBOVESPA - July 119121.2\n",
            "IBOVESPA - August 117686.45454545454\n",
            "Variation July to August -1.2044417404672325\n"
          ]
        }
      ]
    },
    {
      "cell_type": "markdown",
      "source": [
        "AI SAID IBOVESPA WAS **129,266.5** REALITY SAID **117,686.45**"
      ],
      "metadata": {
        "id": "mLXEPvggtBv2"
      }
    },
    {
      "cell_type": "markdown",
      "source": [
        "AI SAID IBOVESPA ROSE **4.7%** REALITY SAID IT FALL **1.2%**"
      ],
      "metadata": {
        "id": "LN1fO55wtb44"
      }
    },
    {
      "cell_type": "markdown",
      "source": [
        "AI SAID S&P ROSE **3,1%** RELATITY SAID IT FALL **1.08%**"
      ],
      "metadata": {
        "id": "CTuB5nIutk2E"
      }
    },
    {
      "cell_type": "markdown",
      "source": [
        "ALL THE NUMBERS WERE WRONG, AS THE ANALYSIS."
      ],
      "metadata": {
        "id": "NqXLew3Ot1Od"
      }
    }
  ]
}